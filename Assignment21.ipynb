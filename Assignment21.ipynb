{
 "cells": [
  {
   "cell_type": "code",
   "execution_count": 2,
   "id": "b125a9ab-adf3-4891-a8dc-9bcb37b6d386",
   "metadata": {},
   "outputs": [
    {
     "name": "stdout",
     "output_type": "stream",
     "text": [
      "0     4\n",
      "1     8\n",
      "2    15\n",
      "3    16\n",
      "4    23\n",
      "5    42\n",
      "dtype: int64\n"
     ]
    }
   ],
   "source": [
    "\"\"\" Q1. Create a Pandas Series that contains the following data: 4, 8, 15, 16, 23, and 42.\n",
    "Then, print the series. \"\"\"\n",
    "\n",
    "import pandas as pd\n",
    "\n",
    "print(pd.Series([4,8,15,16,23,42]))"
   ]
  },
  {
   "cell_type": "code",
   "execution_count": 3,
   "id": "e591fac3-4436-4e7c-a76f-a385f64b4cf1",
   "metadata": {},
   "outputs": [
    {
     "name": "stdout",
     "output_type": "stream",
     "text": [
      "0     1\n",
      "1     2\n",
      "2     3\n",
      "3     4\n",
      "4     5\n",
      "5     6\n",
      "6     7\n",
      "7     8\n",
      "8     9\n",
      "9    10\n",
      "dtype: int64\n"
     ]
    }
   ],
   "source": [
    "\"\"\" Q2. Create a variable of list type containing 10 elements in it, and apply pandas.\n",
    "Series function on the variable print it. \"\"\"\n",
    "\n",
    "import pandas as pd\n",
    "\n",
    "l=list(range(1,11))\n",
    "print(pd.Series(l))"
   ]
  },
  {
   "cell_type": "code",
   "execution_count": 8,
   "id": "6c1c7b40-dbc4-41bf-a725-b733b0dffc6f",
   "metadata": {},
   "outputs": [
    {
     "name": "stdout",
     "output_type": "stream",
     "text": [
      "     Name  Age  Gender\n",
      "0   Alice   25  Female\n",
      "1     Bob   30    Male\n",
      "2  Claire   27  Female\n"
     ]
    }
   ],
   "source": [
    "# Q3. Create a Pandas DataFrame that contains the following data:\n",
    "\n",
    "import pandas as pd\n",
    "\n",
    "print(pd.DataFrame({\"Name\":[\"Alice\", \"Bob\", \"Claire\"], \"Age\":[25, 30, 27],\n",
    "                    \"Gender\":[\"Female\", \"Male\", \"Female\"]}))"
   ]
  },
  {
   "cell_type": "code",
   "execution_count": 9,
   "id": "668db01b-b22a-482c-82e1-0bf0c1fa8ce4",
   "metadata": {},
   "outputs": [
    {
     "name": "stdout",
     "output_type": "stream",
     "text": [
      "    Name  Age      City\n",
      "0   John   25  New York\n",
      "1  Alice   30     Paris\n",
      "2    Bob   35    London\n"
     ]
    }
   ],
   "source": [
    "\"\"\" Q4. What is ‘DataFrame’ in pandas and how is it different from pandas.series?\n",
    "Explain with an example. \"\"\"\n",
    "\n",
    "# ans\n",
    "\"\"\" In the pandas library, a DataFrame is a two-dimensional data structure that\n",
    "represents tabular data, similar to a table in a relational database or a spreadsheet.\n",
    "It consists of rows and columns, where each column can hold data of a different type \n",
    "(e.g., numbers, strings, or dates). The DataFrame provides a powerful and flexible way to\n",
    "manipulate, analyze, and visualize data. \"\"\"\n",
    "\n",
    "# Example\n",
    "import pandas as pd\n",
    "\n",
    "# Create a DataFrame\n",
    "data = {\n",
    "    'Name': ['John', 'Alice', 'Bob'],\n",
    "    'Age': [25, 30, 35],\n",
    "    'City': ['New York', 'Paris', 'London']\n",
    "}\n",
    "\n",
    "df = pd.DataFrame(data)\n",
    "print(df)"
   ]
  },
  {
   "cell_type": "code",
   "execution_count": 10,
   "id": "a88642fc-8a20-42d5-8ed2-75ba2e671b09",
   "metadata": {},
   "outputs": [
    {
     "name": "stdout",
     "output_type": "stream",
     "text": [
      "0    25\n",
      "1    30\n",
      "2    35\n",
      "Name: Age, dtype: int64\n"
     ]
    }
   ],
   "source": [
    "\"\"\" On the other hand, a pandas Series is a one-dimensional labeled array that can hold data\n",
    "of any type. It can be thought of as a single column of a DataFrame. Each element in a \n",
    "Series is assigned a unique label or index, which allows for efficient data retrieval\n",
    "and alignment. \"\"\"\n",
    "\n",
    "# Example\n",
    "# Create a Series\n",
    "ages = pd.Series([25, 30, 35], name='Age')\n",
    "print(ages)"
   ]
  },
  {
   "cell_type": "code",
   "execution_count": null,
   "id": "1a346123-42cc-4518-954e-14d26b06ad29",
   "metadata": {},
   "outputs": [],
   "source": [
    "\"\"\" Q5. What are some common functions you can use to manipulate data in a Pandas DataFrame?\n",
    "Can you give an example of when you might use one of these functions? \"\"\"\n",
    "\n",
    "# ans\n",
    "\"\"\" \n",
    "1.head() and tail(): These functions allow you to view the first few rows (head()) or \n",
    "last few rows (tail()) of a DataFrame. They are useful for quickly inspecting the data \n",
    "and getting a glimpse of its structure and content. \n",
    "\n",
    "2.info(): This function provides a summary of the DataFrame, including the number of rows,\n",
    "columns, data types, and memory usage. It helps in understanding the structure and\n",
    "properties of the DataFrame.\n",
    "\n",
    "3.describe(): This function generates descriptive statistics of the numerical columns in\n",
    "the DataFrame, such as count, mean, standard deviation, minimum, maximum, and quartile\n",
    "values. It gives a quick overview of the distribution and central tendency of the data.\n",
    "\n",
    "4.sort_values(): This function sorts the DataFrame based on one or more columns. \n",
    "It allows you to arrange the data in ascending or descending order, facilitating data\n",
    "exploration or identifying patterns.\n",
    "\n",
    "5.fillna(): This function allows you to fill missing values in the DataFrame with \n",
    "specified values, such as a specific number, mean, median, or forward/backward filling.\n",
    "It helps in handling missing data before further analysis.\n",
    "\n",
    "6.groupby(): This function enables grouping the DataFrame by one or more columns and\n",
    "applying aggregate functions on the grouped data. It helps in aggregating and summarizing\n",
    "data based on specific criteria.\n",
    "\"\"\""
   ]
  },
  {
   "cell_type": "code",
   "execution_count": null,
   "id": "c003f0e0-2a9b-4676-8211-851e644c504c",
   "metadata": {},
   "outputs": [],
   "source": [
    "# Q6. Which of the following is mutable in nature Series, DataFrame, Panel?\n",
    "\n",
    "# ans\n",
    "\"\"\" \n",
    "Among the options provided (Series, DataFrame, Panel), the mutable nature is applicable\n",
    "to DataFrame.\n",
    "\n",
    "DataFrame is mutable, meaning it can be modified after creation. \n",
    "You can add or remove columns, change the values of existing cells, and perform various \n",
    "data manipulation operations on a DataFrame.\n",
    "\n",
    "On the other hand, Series and Panel are immutable in nature. Once created, their values\n",
    "cannot be changed. If you need to modify a Series or Panel, you typically create a new \n",
    "object with the desired changes rather than modifying the existing one directly. \"\"\""
   ]
  },
  {
   "cell_type": "code",
   "execution_count": 14,
   "id": "7d84e325-717e-49e0-be74-aa3addd65467",
   "metadata": {},
   "outputs": [
    {
     "name": "stdout",
     "output_type": "stream",
     "text": [
      "    Name  Age      City\n",
      "0   John   25  New York\n",
      "1  Alice   30     Paris\n",
      "2    Bob   35    London\n"
     ]
    }
   ],
   "source": [
    "\"\"\" Q7. Create a DataFrame using multiple Series. Explain with an example. \"\"\"\n",
    "\n",
    "# Example\n",
    "import pandas as pd\n",
    "\n",
    "# Create the Series objects\n",
    "name_series = pd.Series(['John', 'Alice', 'Bob'])\n",
    "age_series = pd.Series([25, 30, 35])\n",
    "city_series = pd.Series(['New York', 'Paris', 'London'])\n",
    "\n",
    "# Create the DataFrame using the Series\n",
    "data = {\n",
    "    'Name': name_series,\n",
    "    'Age': age_series,\n",
    "    'City': city_series\n",
    "}\n",
    "\n",
    "df = pd.DataFrame(data)\n",
    "print(df)\n",
    "\n",
    "\"\"\" In this example, we first create three Series objects: name_series, age_series, \n",
    "and city_series. Each Series represents a column of data for the DataFrame.\n",
    "\n",
    "Next, we create a dictionary data where the keys are the column names ('Name', 'Age',\n",
    "'City') and the values are the corresponding Series objects.\n",
    "\n",
    "Finally, we use the dictionary data to create a DataFrame df by passing it as an argument\n",
    "to the pd.DataFrame() function. The resulting DataFrame contains the columns 'Name',\n",
    "'Age', and 'City', with the values from the respective Series.\n",
    "\n",
    "Note that the Series must have the same length, or pandas will raise an exception.\n",
    "The index of each Series will be preserved as the row index in the DataFrame, as shown\n",
    "in the output above. \"\"\""
   ]
  }
 ],
 "metadata": {
  "kernelspec": {
   "display_name": "Python 3 (ipykernel)",
   "language": "python",
   "name": "python3"
  },
  "language_info": {
   "codemirror_mode": {
    "name": "ipython",
    "version": 3
   },
   "file_extension": ".py",
   "mimetype": "text/x-python",
   "name": "python",
   "nbconvert_exporter": "python",
   "pygments_lexer": "ipython3",
   "version": "3.10.8"
  }
 },
 "nbformat": 4,
 "nbformat_minor": 5
}
